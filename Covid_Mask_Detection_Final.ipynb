{
  "cells": [
    {
      "cell_type": "markdown",
      "metadata": {
        "id": "_jZt41JxMiNK"
      },
      "source": [
        "# Tensorflow with GPU\n",
        "\n",
        "This notebook provides an introduction to computing on a [GPU](https://cloud.google.com/gpu) in Colab. In this notebook you will connect to a GPU, and then run some basic TensorFlow operations on both the CPU and a GPU, observing the speedup provided by using the GPU.\n"
      ]
    },
    {
      "cell_type": "markdown",
      "metadata": {
        "id": "WaKw7wGQMiNM"
      },
      "source": [
        "## Enabling and testing the GPU\n",
        "\n",
        "First, you'll need to enable GPUs for the notebook:\n",
        "\n",
        "- Navigate to Edit→Notebook Settings\n",
        "- select GPU from the Hardware Accelerator drop-down\n",
        "\n",
        "Next, we'll confirm that we can connect to the GPU with tensorflow:"
      ]
    },
    {
      "cell_type": "code",
      "execution_count": 1,
      "metadata": {
        "colab": {
          "base_uri": "https://localhost:8080/"
        },
        "id": "Ch94pawd2kKu",
        "outputId": "f9890072-e9d1-4f9e-8dea-30384fed5664"
      },
      "outputs": [
        {
          "output_type": "stream",
          "name": "stdout",
          "text": [
            "Mounted at /content/gdrive\n"
          ]
        }
      ],
      "source": [
        "from google.colab import drive\n",
        "drive.mount('/content/gdrive')\n"
      ]
    },
    {
      "cell_type": "code",
      "execution_count": 2,
      "metadata": {
        "id": "l1C2Mp5r8M-l"
      },
      "outputs": [],
      "source": [
        "import pandas as pd\n",
        "import os\n",
        "from os.path import isfile, join\n",
        "from torch.utils.data import Dataset\n",
        "from PIL import Image\n",
        "import random\n",
        "import torch\n",
        "import torch.nn as nn\n",
        "import torchvision.transforms as transforms\n",
        "from torch.utils.data import DataLoader, Subset\n",
        "from sklearn.model_selection import train_test_split\n",
        "\n",
        "\n",
        "#BASE = \"./Dataset\"\n",
        "BASE = \"gdrive/MyDrive/Final DatasetP\"\n",
        "cloth_folder = os.path.join(BASE, \"Cloth Mask\")\n",
        "n95_folder = os.path.join(BASE, \"N95\")\n",
        "n95valve_folder = os.path.join(BASE, \"N95 mask with valve\")\n",
        "surgical_folder = os.path.join(BASE, \"Surgical Mask\")\n",
        "without_mask_folder = os.path.join(BASE, \"No Mask\")\n",
        "root_folder = (\"./\")\n",
        "\n"
      ]
    },
    {
      "cell_type": "code",
      "execution_count": 3,
      "metadata": {
        "pycharm": {
          "name": "#%%\n"
        },
        "id": "vg3AhnKWMiNP"
      },
      "outputs": [],
      "source": [
        "# create directory\n",
        "def make_dir(dir_path):\n",
        "    if not os.path.isdir(dir_path):\n",
        "        os.makedirs(dir_path)\n",
        "\n",
        "model_path = os.path.join(root_folder, 'model/AI.pth')\n",
        "make_dir(model_path)\n",
        "\n",
        "# predefined classes\n",
        "classes = {\n",
        "    \"cloth\": 0,\n",
        "    \"n95\": 1,\n",
        "    \"n95valve\": 2,\n",
        "    \"surgical\": 3,\n",
        "    \"without_mask\": 4\n",
        "}\n"
      ]
    },
    {
      "cell_type": "code",
      "execution_count": 4,
      "metadata": {
        "pycharm": {
          "name": "#%%\n"
        },
        "id": "Y_0J9Z0bMiNQ"
      },
      "outputs": [],
      "source": [
        "class FaceMaskDataset(Dataset):\n",
        "    dataset = []\n",
        "    conversion = None\n",
        "\n",
        "    def __init__(self, images, indexes, conversion=transforms.ToTensor()):\n",
        "        self.conversion = conversion\n",
        "        self.dataset = images[int(indexes[0]):int(indexes[1])]\n",
        "        \n",
        "    \n",
        "    def __len__(self):\n",
        "        return len(self.dataset)\n",
        "\n",
        "    def __getitem__(self, index):\n",
        "        image = self.dataset[index]['image']\n",
        "        return image, self.dataset[index]['target']\n",
        "\n"
      ]
    },
    {
      "cell_type": "code",
      "source": [
        "transform = transforms.Compose(\n",
        "    [transforms.Resize((250, 250)),\n",
        "        transforms.ToTensor(),\n",
        "        transforms.Normalize(mean=[0.485, 0.456, 0.406],\n",
        "                                       std=[0.229, 0.224, 0.225])])"
      ],
      "metadata": {
        "id": "9i46tIc8OEsm"
      },
      "execution_count": 5,
      "outputs": []
    },
    {
      "cell_type": "code",
      "execution_count": 6,
      "metadata": {
        "pycharm": {
          "name": "#%%\n"
        },
        "id": "CGAKTuVTMiNQ"
      },
      "outputs": [],
      "source": [
        "\n",
        "def load_images():\n",
        "  dat = []\n",
        "  cnt = 0   \n",
        "  for filename in os.listdir(cloth_folder):\n",
        "    try:\n",
        "        sample = {}\n",
        "        img = Image.open(os.path.join(cloth_folder, filename)).convert('RGB')\n",
        "        img = transform(img)\n",
        "        sample['image'] = img\n",
        "        sample['target'] = classes['cloth']\n",
        "        dat.append(sample)\n",
        "        cnt += 1\n",
        "    except:\n",
        "        continue\n",
        "  print(cnt)\n",
        "\n",
        "  for filename in os.listdir(n95_folder):\n",
        "    try:\n",
        "        sample = {}\n",
        "        img = Image.open(os.path.join(n95_folder, filename)).convert('RGB')\n",
        "        img = transform(img)\n",
        "        sample['image'] = img\n",
        "        sample['target'] = classes['n95']\n",
        "        dat.append(sample)\n",
        "        cnt += 1\n",
        "    except:\n",
        "        continue\n",
        "  print(cnt)\n",
        "\n",
        "  for filename in os.listdir(n95valve_folder):\n",
        "    try:\n",
        "        sample = {}\n",
        "        img = Image.open(os.path.join(n95valve_folder, filename)).convert('RGB')\n",
        "        img = transform(img)\n",
        "        sample['image'] = img\n",
        "        sample['target'] = classes['n95valve']\n",
        "        dat.append(sample)\n",
        "        cnt += 1\n",
        "    except:\n",
        "        continue\n",
        "  print(cnt)\n",
        "\n",
        "  for filename in os.listdir(surgical_folder):\n",
        "    try:\n",
        "        sample = {}\n",
        "        img = Image.open(os.path.join(surgical_folder, filename)).convert('RGB')\n",
        "        img = transform(img)\n",
        "        sample['image'] = img\n",
        "        sample['target'] = classes['surgical']\n",
        "        dat.append(sample)\n",
        "        cnt += 1\n",
        "    except:\n",
        "        continue\n",
        "  print(cnt)\n",
        "\n",
        "  for filename in os.listdir(without_mask_folder):\n",
        "    try:\n",
        "        sample = {}\n",
        "        img = Image.open(os.path.join(without_mask_folder, filename)).convert('RGB')\n",
        "        img = transform(img)\n",
        "        sample['image'] = img\n",
        "        sample['target'] = classes['without_mask']\n",
        "        dat.append(sample)\n",
        "        cnt += 1\n",
        "    except:\n",
        "        continue\n",
        "  print(cnt)\n",
        "  return dat\n",
        "\n"
      ]
    },
    {
      "cell_type": "code",
      "execution_count": 7,
      "metadata": {
        "pycharm": {
          "name": "#%%\n"
        },
        "colab": {
          "base_uri": "https://localhost:8080/"
        },
        "id": "1yGKRV7pMiNR",
        "outputId": "0d3eb24a-8e10-4d5c-99c2-d3c3d099b47f"
      },
      "outputs": [
        {
          "output_type": "stream",
          "name": "stdout",
          "text": [
            "398\n",
            "799\n",
            "1200\n",
            "1861\n",
            "2379\n",
            "size_of_the_dataset 2379\n"
          ]
        }
      ],
      "source": [
        "\n",
        "#load images into memory\n",
        "images = load_images()\n",
        "random.shuffle(images)\n",
        "size_of_the_dataset = len(images)\n",
        "print(\"size_of_the_dataset\", size_of_the_dataset)\n",
        "\n"
      ]
    },
    {
      "cell_type": "code",
      "execution_count": null,
      "metadata": {
        "id": "TO7ADauS9jDQ"
      },
      "outputs": [],
      "source": [
        "# transform = transforms.Compose(\n",
        "#     [transforms.Resize((250, 250)),\n",
        "#         transforms.ToTensor(),\n",
        "#         transforms.Normalize(mean=[0.485, 0.456, 0.406],\n",
        "#                                        std=[0.229, 0.224, 0.225])])"
      ]
    },
    {
      "cell_type": "code",
      "execution_count": null,
      "metadata": {
        "id": "u6MK3oHR_9Ag"
      },
      "outputs": [],
      "source": [
        "\n",
        "# print(\"Loading training set\")\n",
        "# train_dataset = FaceMaskDataset(images, train_indexes, conversion=transform)\n",
        "# print(\"Train Dataset length \", len(train_dataset))\n",
        "\n",
        "# print(\"Loading validation set\")\n",
        "# valid_dataset = FaceMaskDataset(images, test_indexes, conversion=transform)\n",
        "# print(\"Validation Dataset length \", len(valid_dataset))\n",
        "\n",
        "# train_loader = torch.utils.data.DataLoader(dataset=train_dataset, batch_size=batch_size, shuffle=True, num_workers=0)\n",
        "# valid_loader = torch.utils.data.DataLoader(dataset=valid_dataset, batch_size=batch_size, shuffle=True, num_workers=0)"
      ]
    },
    {
      "cell_type": "code",
      "source": [
        "\n",
        "\n",
        "data = FaceMaskDataset(images,[0, size_of_the_dataset], conversion=transform)\n",
        "\n",
        "print(len(data))\n",
        "TEST_SIZE = 0.15\n",
        "\n",
        "train_indices, test_indices= train_test_split(\n",
        "    range(len(data)),\n",
        "    test_size=TEST_SIZE,\n",
        "    random_state = 42\n",
        ")\n",
        "\n",
        "train_indices = train_indices[ : int(0.834 * len(train_indices))]\n",
        "\n",
        "print(\"Train split : {} test split : {} \".format( len(train_indices), len(test_indices)))\n",
        "\n",
        "train_split = Subset(data, train_indices)\n",
        "test_split = Subset(data, test_indices)"
      ],
      "metadata": {
        "colab": {
          "base_uri": "https://localhost:8080/"
        },
        "id": "DTBeiZDJB6y-",
        "outputId": "02983b34-9e2e-4a50-a9a3-eb847b453f3f"
      },
      "execution_count": 8,
      "outputs": [
        {
          "output_type": "stream",
          "name": "stdout",
          "text": [
            "2379\n",
            "Train split : 1686 test split : 357 \n"
          ]
        }
      ]
    },
    {
      "cell_type": "code",
      "execution_count": 9,
      "metadata": {
        "colab": {
          "base_uri": "https://localhost:8080/"
        },
        "id": "zPf7fIkWCrHt",
        "outputId": "ee099302-9e25-4efb-a5af-c041dbb98fc4"
      },
      "outputs": [
        {
          "output_type": "stream",
          "name": "stdout",
          "text": [
            "Using device: cuda\n"
          ]
        }
      ],
      "source": [
        "\n",
        "device = torch.device('cuda' if torch.cuda.is_available() else 'cpu')\n",
        "print('Using device:', device)\n"
      ]
    },
    {
      "cell_type": "code",
      "execution_count": 10,
      "metadata": {
        "id": "R_d4f7KzCut_"
      },
      "outputs": [],
      "source": [
        "import torch.nn as nn\n",
        "import torch.nn.functional as F\n",
        "\n",
        "class FaceMaskClassificationBase(nn.Module):\n",
        "    def training_step(self, batch):\n",
        "        images, labels = batch \n",
        "        images, labels = images.to(device), labels.to(device)\n",
        "        out = self(images)                  # Generate predictions\n",
        "        loss = F.cross_entropy(out, labels) # Calculate loss\n",
        "        scores, predictions = torch.max(out.data, 1)\n",
        "        train_correct = (predictions == labels).sum().item()\n",
        "        return loss, train_correct\n",
        "\n",
        "    def validation_step(self, batch):\n",
        "        images, labels = batch \n",
        "        images, labels = images.to(device), labels.to(device)\n",
        "        out = self(images)                    # Generate predictions\n",
        "        loss = F.cross_entropy(out, labels)   # Calculate loss\n",
        "        scores, predictions = torch.max(out.data, 1)\n",
        "        valid_correct = (predictions == labels).sum().item()\n",
        "        return loss, valid_correct\n",
        "    \n",
        "    def epoch_end(self, epoch, result):\n",
        "        print(\"Epoch [{}], train_loss: {:.4f}, train_accuracy: {:.4f}, valid_loss: {:.4f}, valid_accuracy: {:.4f}\".format(epoch+1, result['train_loss'], result['train_accuracy']\n",
        "                                                                                                                          , result['valid_loss'], result['valid_accuracy']))"
      ]
    },
    {
      "cell_type": "code",
      "execution_count": 12,
      "metadata": {
        "id": "Q7t03d6LCx2x"
      },
      "outputs": [],
      "source": [
        "class CNN(FaceMaskClassificationBase):\n",
        "    def __init__(self):\n",
        "        super(CNN, self).__init__()\n",
        "        self.conv_layer = nn.Sequential(\n",
        "            nn.Conv2d(in_channels=3, out_channels=32, kernel_size=3, padding=1),\n",
        "            nn.BatchNorm2d(32),\n",
        "            nn.LeakyReLU(inplace=True),\n",
        "            nn.Conv2d(in_channels=32, out_channels=32, kernel_size=3, padding=1),\n",
        "            nn.BatchNorm2d(32),\n",
        "            nn.LeakyReLU(inplace=True),\n",
        "            nn.MaxPool2d(kernel_size=2, stride=2),\n",
        "            nn.Conv2d(in_channels=32, out_channels=64, kernel_size=3, padding=1),\n",
        "            nn.BatchNorm2d(64),\n",
        "            nn.LeakyReLU(inplace=True),\n",
        "            nn.Conv2d(in_channels=64, out_channels=64, kernel_size=3, padding=1),\n",
        "            nn.BatchNorm2d(64),\n",
        "            nn.LeakyReLU(inplace=True),\n",
        "            nn.MaxPool2d(kernel_size=2, stride=2),     \n",
        "        )\n",
        "        self.fc_layer = nn.Sequential(\n",
        "            nn.Dropout(p=0.1),\n",
        "            nn.Linear(246016, 1024),\n",
        "            nn.ReLU(inplace=True),\n",
        "            nn.Linear(1024, 512),\n",
        "            nn.ReLU(inplace=True),\n",
        "            nn.Dropout(p=0.1),\n",
        "            nn.Linear(512, 5),\n",
        "        )\n",
        "\n",
        "    def forward(self, x):\n",
        "        # conv layers\n",
        "        x = self.conv_layer(x)\n",
        "        # flatten\n",
        "        x = x.view(x.size(0), -1)\n",
        "        # fc layer\n",
        "        x = self.fc_layer(x)\n",
        "        return x\n"
      ]
    },
    {
      "cell_type": "code",
      "execution_count": 13,
      "metadata": {
        "id": "O3qV7rw3C0qn"
      },
      "outputs": [],
      "source": [
        "@torch.no_grad()\n",
        "def evaluate_model(model, val_loader):\n",
        "    model.eval()\n",
        "    valid_losses = []\n",
        "    valid_correct = 0\n",
        "   \n",
        "    for batch in val_loader:\n",
        "      loss, correct = model.validation_step(batch)\n",
        "      valid_losses.append(loss)\n",
        "      valid_correct += correct\n",
        "\n",
        "    return valid_losses, valid_correct\n",
        "\n",
        "\n",
        "\n",
        "def fit(epochs, lr, model, train_loader, valid_loader, opt_func = torch.optim.SGD):\n",
        "    \n",
        "    results = []\n",
        "    optimizer = opt_func(model.parameters(),lr)\n",
        "    for epoch in range(epochs):\n",
        "        model.train()\n",
        "        train_losses = []\n",
        "        train_correct = 0\n",
        "        for batch in train_loader:\n",
        "            images, labels = batch\n",
        "            # forward-pass: compute-predicted-outputs-by-passing-inputs-to-the-model\n",
        "            loss, correct = model.training_step(batch)\n",
        "            # update-training-loss\n",
        "            train_losses.append(loss)\n",
        "            train_correct += correct\n",
        "            # backward-pass: compute-gradient-of-the-loss-wrt-model-parameters\n",
        "            loss.backward()\n",
        "            # perform-a-single-optimization-step (parameter-update)\n",
        "            optimizer.step()\n",
        "            # clear-the-gradients-of-all-optimized-variables\n",
        "            optimizer.zero_grad()\n",
        "\n",
        "        valid_losses, valid_correct = evaluate_model(model, valid_loader)\n",
        "\n",
        "        train_acc = (train_correct / (len(train_sampler))) * 100\n",
        "        valid_acc = (valid_correct / (len(valid_sampler))) * 100\n",
        "        result = {}\n",
        "        result['train_loss'] = torch.stack(train_losses).mean().item()\n",
        "        result['train_accuracy'] = train_acc\n",
        "        result['valid_loss'] = torch.stack(valid_losses).mean().item()\n",
        "        result['valid_accuracy'] = valid_acc\n",
        "        model.epoch_end(epoch, result)\n",
        "        results.append(result)\n",
        "    \n",
        "    return results"
      ]
    },
    {
      "cell_type": "code",
      "execution_count": 14,
      "metadata": {
        "id": "hKulzxEAC32J"
      },
      "outputs": [],
      "source": [
        "model = CNN()\n",
        "model = model.to(device)"
      ]
    },
    {
      "cell_type": "code",
      "source": [
        "from sklearn.model_selection import KFold\n",
        "import numpy as np\n",
        "from torch.utils.data import Dataset, DataLoader,TensorDataset,random_split,SubsetRandomSampler, ConcatDataset\n",
        "\n",
        "num_epochs = 10\n",
        "batch_size = 25\n",
        "k = 10\n",
        "splits = KFold(n_splits=k,shuffle=True,random_state=42)\n",
        "foldperf = {}\n",
        "final_results = []\n",
        "\n",
        "for fold, (train_idx,valid_idx) in enumerate(splits.split(np.arange(len(train_split)))):\n",
        "\n",
        "    print('Fold {}'.format(fold + 1))\n",
        "    train_sampler = SubsetRandomSampler(train_idx)\n",
        "    valid_sampler = SubsetRandomSampler(valid_idx)\n",
        "    train_loader = DataLoader(train_split, batch_size=batch_size, sampler=train_sampler)\n",
        "    valid_loader = DataLoader(train_split, batch_size=batch_size, sampler=valid_sampler)\n",
        "\n",
        "    results = fit(num_epochs, 0.0001, model, train_loader, valid_loader, torch.optim.ASGD)\n",
        "\n",
        "    final_results.append(results)\n",
        "    foldperf['fold{}'.format(fold+1)] = results  "
      ],
      "metadata": {
        "colab": {
          "base_uri": "https://localhost:8080/"
        },
        "id": "Uqt0nA2aEYR-",
        "outputId": "458b87d2-01e8-4a18-8826-7e724b7a11b6"
      },
      "execution_count": 15,
      "outputs": [
        {
          "output_type": "stream",
          "name": "stdout",
          "text": [
            "Fold 1\n",
            "Epoch [1], train_loss: 1.5531, train_accuracy: 37.1127, valid_loss: 1.4836, valid_accuracy: 52.0710\n",
            "Epoch [2], train_loss: 1.4124, train_accuracy: 52.5379, valid_loss: 1.3325, valid_accuracy: 52.6627\n",
            "Epoch [3], train_loss: 1.2678, train_accuracy: 58.6684, valid_loss: 1.1813, valid_accuracy: 59.7633\n",
            "Epoch [4], train_loss: 1.1454, train_accuracy: 62.2281, valid_loss: 1.0741, valid_accuracy: 63.9053\n",
            "Epoch [5], train_loss: 1.0443, train_accuracy: 65.5241, valid_loss: 1.0079, valid_accuracy: 65.0888\n",
            "Epoch [6], train_loss: 0.9733, train_accuracy: 67.4357, valid_loss: 0.9372, valid_accuracy: 67.4556\n",
            "Epoch [7], train_loss: 0.9119, train_accuracy: 70.7317, valid_loss: 0.8927, valid_accuracy: 66.2722\n",
            "Epoch [8], train_loss: 0.8657, train_accuracy: 70.7317, valid_loss: 0.8467, valid_accuracy: 70.4142\n",
            "Epoch [9], train_loss: 0.8287, train_accuracy: 72.8411, valid_loss: 0.8319, valid_accuracy: 69.2308\n",
            "Epoch [10], train_loss: 0.7935, train_accuracy: 75.1483, valid_loss: 0.7967, valid_accuracy: 71.5976\n",
            "Fold 2\n",
            "Epoch [1], train_loss: 0.7659, train_accuracy: 75.8734, valid_loss: 0.7549, valid_accuracy: 73.9645\n",
            "Epoch [2], train_loss: 0.7380, train_accuracy: 76.0712, valid_loss: 0.7388, valid_accuracy: 75.1479\n",
            "Epoch [3], train_loss: 0.7127, train_accuracy: 76.4667, valid_loss: 0.7263, valid_accuracy: 75.1479\n",
            "Epoch [4], train_loss: 0.6895, train_accuracy: 78.3125, valid_loss: 0.7294, valid_accuracy: 73.3728\n",
            "Epoch [5], train_loss: 0.6628, train_accuracy: 79.4331, valid_loss: 0.7118, valid_accuracy: 73.3728\n",
            "Epoch [6], train_loss: 0.6498, train_accuracy: 80.1582, valid_loss: 0.7203, valid_accuracy: 73.3728\n",
            "Epoch [7], train_loss: 0.6274, train_accuracy: 80.0264, valid_loss: 0.7053, valid_accuracy: 73.3728\n",
            "Epoch [8], train_loss: 0.6097, train_accuracy: 81.4107, valid_loss: 0.6950, valid_accuracy: 73.3728\n",
            "Epoch [9], train_loss: 0.5887, train_accuracy: 81.7403, valid_loss: 0.6977, valid_accuracy: 73.3728\n",
            "Epoch [10], train_loss: 0.5834, train_accuracy: 82.8609, valid_loss: 0.7094, valid_accuracy: 71.5976\n",
            "Fold 3\n",
            "Epoch [1], train_loss: 0.5736, train_accuracy: 82.3995, valid_loss: 0.5356, valid_accuracy: 85.2071\n",
            "Epoch [2], train_loss: 0.5631, train_accuracy: 82.8609, valid_loss: 0.5304, valid_accuracy: 83.4320\n",
            "Epoch [3], train_loss: 0.5514, train_accuracy: 82.9927, valid_loss: 0.5296, valid_accuracy: 84.0237\n",
            "Epoch [4], train_loss: 0.5362, train_accuracy: 84.1134, valid_loss: 0.5401, valid_accuracy: 83.4320\n",
            "Epoch [5], train_loss: 0.5152, train_accuracy: 85.4977, valid_loss: 0.5213, valid_accuracy: 84.0237\n",
            "Epoch [6], train_loss: 0.5015, train_accuracy: 85.9591, valid_loss: 0.5206, valid_accuracy: 84.0237\n",
            "Epoch [7], train_loss: 0.4903, train_accuracy: 85.8273, valid_loss: 0.5258, valid_accuracy: 82.8402\n",
            "Epoch [8], train_loss: 0.4828, train_accuracy: 86.3546, valid_loss: 0.5184, valid_accuracy: 82.8402\n",
            "Epoch [9], train_loss: 0.4702, train_accuracy: 86.9479, valid_loss: 0.5184, valid_accuracy: 84.6154\n",
            "Epoch [10], train_loss: 0.4513, train_accuracy: 87.8049, valid_loss: 0.5070, valid_accuracy: 84.0237\n",
            "Fold 4\n",
            "Epoch [1], train_loss: 0.4467, train_accuracy: 87.8708, valid_loss: 0.4295, valid_accuracy: 90.5325\n",
            "Epoch [2], train_loss: 0.4423, train_accuracy: 88.7937, valid_loss: 0.4303, valid_accuracy: 88.7574\n",
            "Epoch [3], train_loss: 0.4298, train_accuracy: 89.4529, valid_loss: 0.4243, valid_accuracy: 88.1657\n",
            "Epoch [4], train_loss: 0.4110, train_accuracy: 90.3098, valid_loss: 0.4300, valid_accuracy: 88.7574\n",
            "Epoch [5], train_loss: 0.4020, train_accuracy: 89.8484, valid_loss: 0.4346, valid_accuracy: 88.1657\n",
            "Epoch [6], train_loss: 0.3978, train_accuracy: 90.7713, valid_loss: 0.4253, valid_accuracy: 86.9822\n",
            "Epoch [7], train_loss: 0.3831, train_accuracy: 90.9031, valid_loss: 0.4283, valid_accuracy: 87.5740\n",
            "Epoch [8], train_loss: 0.3781, train_accuracy: 91.1009, valid_loss: 0.4219, valid_accuracy: 88.1657\n",
            "Epoch [9], train_loss: 0.3767, train_accuracy: 90.7713, valid_loss: 0.4208, valid_accuracy: 87.5740\n",
            "Epoch [10], train_loss: 0.3555, train_accuracy: 91.9578, valid_loss: 0.4267, valid_accuracy: 87.5740\n",
            "Fold 5\n",
            "Epoch [1], train_loss: 0.3615, train_accuracy: 91.7601, valid_loss: 0.3165, valid_accuracy: 94.0828\n",
            "Epoch [2], train_loss: 0.3557, train_accuracy: 91.8919, valid_loss: 0.3267, valid_accuracy: 94.0828\n",
            "Epoch [3], train_loss: 0.3445, train_accuracy: 92.7488, valid_loss: 0.3207, valid_accuracy: 94.6746\n",
            "Epoch [4], train_loss: 0.3340, train_accuracy: 93.4080, valid_loss: 0.3197, valid_accuracy: 94.6746\n",
            "Epoch [5], train_loss: 0.3263, train_accuracy: 93.6717, valid_loss: 0.3193, valid_accuracy: 94.0828\n",
            "Epoch [6], train_loss: 0.3198, train_accuracy: 93.5399, valid_loss: 0.3127, valid_accuracy: 94.0828\n",
            "Epoch [7], train_loss: 0.3128, train_accuracy: 94.0672, valid_loss: 0.3255, valid_accuracy: 92.8994\n",
            "Epoch [8], train_loss: 0.3038, train_accuracy: 94.9242, valid_loss: 0.3087, valid_accuracy: 94.6746\n",
            "Epoch [9], train_loss: 0.2937, train_accuracy: 95.0560, valid_loss: 0.3159, valid_accuracy: 94.0828\n",
            "Epoch [10], train_loss: 0.2839, train_accuracy: 94.9901, valid_loss: 0.3056, valid_accuracy: 93.4911\n",
            "Fold 6\n",
            "Epoch [1], train_loss: 0.2817, train_accuracy: 95.2538, valid_loss: 0.2673, valid_accuracy: 96.4497\n",
            "Epoch [2], train_loss: 0.2773, train_accuracy: 94.5946, valid_loss: 0.2600, valid_accuracy: 96.4497\n",
            "Epoch [3], train_loss: 0.2697, train_accuracy: 95.1879, valid_loss: 0.2695, valid_accuracy: 96.4497\n",
            "Epoch [4], train_loss: 0.2641, train_accuracy: 95.9789, valid_loss: 0.2641, valid_accuracy: 97.0414\n",
            "Epoch [5], train_loss: 0.2605, train_accuracy: 95.7811, valid_loss: 0.2639, valid_accuracy: 97.0414\n",
            "Epoch [6], train_loss: 0.2487, train_accuracy: 96.3744, valid_loss: 0.2579, valid_accuracy: 96.4497\n",
            "Epoch [7], train_loss: 0.2429, train_accuracy: 96.6381, valid_loss: 0.2586, valid_accuracy: 97.0414\n",
            "Epoch [8], train_loss: 0.2418, train_accuracy: 96.3744, valid_loss: 0.2621, valid_accuracy: 96.4497\n",
            "Epoch [9], train_loss: 0.2283, train_accuracy: 96.5063, valid_loss: 0.2550, valid_accuracy: 97.0414\n",
            "Epoch [10], train_loss: 0.2277, train_accuracy: 96.4403, valid_loss: 0.2568, valid_accuracy: 96.4497\n",
            "Fold 7\n",
            "Epoch [1], train_loss: 0.2272, train_accuracy: 97.2991, valid_loss: 0.1578, valid_accuracy: 100.0000\n",
            "Epoch [2], train_loss: 0.2281, train_accuracy: 96.2451, valid_loss: 0.1515, valid_accuracy: 100.0000\n",
            "Epoch [3], train_loss: 0.2200, train_accuracy: 96.7062, valid_loss: 0.1589, valid_accuracy: 100.0000\n",
            "Epoch [4], train_loss: 0.2145, train_accuracy: 97.2332, valid_loss: 0.1634, valid_accuracy: 98.8095\n",
            "Epoch [5], train_loss: 0.2090, train_accuracy: 97.4967, valid_loss: 0.1622, valid_accuracy: 99.4048\n",
            "Epoch [6], train_loss: 0.2091, train_accuracy: 97.0356, valid_loss: 0.1590, valid_accuracy: 98.8095\n",
            "Epoch [7], train_loss: 0.1998, train_accuracy: 97.3650, valid_loss: 0.1675, valid_accuracy: 99.4048\n",
            "Epoch [8], train_loss: 0.1939, train_accuracy: 97.8261, valid_loss: 0.1597, valid_accuracy: 98.8095\n",
            "Epoch [9], train_loss: 0.1903, train_accuracy: 98.0896, valid_loss: 0.1625, valid_accuracy: 98.8095\n",
            "Epoch [10], train_loss: 0.1899, train_accuracy: 97.7602, valid_loss: 0.1642, valid_accuracy: 99.4048\n",
            "Fold 8\n",
            "Epoch [1], train_loss: 0.1833, train_accuracy: 98.2872, valid_loss: 0.1231, valid_accuracy: 99.4048\n",
            "Epoch [2], train_loss: 0.1781, train_accuracy: 98.1555, valid_loss: 0.1301, valid_accuracy: 99.4048\n",
            "Epoch [3], train_loss: 0.1781, train_accuracy: 98.6166, valid_loss: 0.1208, valid_accuracy: 99.4048\n",
            "Epoch [4], train_loss: 0.1725, train_accuracy: 98.5507, valid_loss: 0.1188, valid_accuracy: 99.4048\n",
            "Epoch [5], train_loss: 0.1670, train_accuracy: 98.4848, valid_loss: 0.1197, valid_accuracy: 99.4048\n",
            "Epoch [6], train_loss: 0.1601, train_accuracy: 98.8142, valid_loss: 0.1220, valid_accuracy: 99.4048\n",
            "Epoch [7], train_loss: 0.1573, train_accuracy: 98.6825, valid_loss: 0.1215, valid_accuracy: 99.4048\n",
            "Epoch [8], train_loss: 0.1558, train_accuracy: 99.0777, valid_loss: 0.1205, valid_accuracy: 99.4048\n",
            "Epoch [9], train_loss: 0.1511, train_accuracy: 99.2095, valid_loss: 0.1222, valid_accuracy: 99.4048\n",
            "Epoch [10], train_loss: 0.1454, train_accuracy: 98.8801, valid_loss: 0.1209, valid_accuracy: 99.4048\n",
            "Fold 9\n",
            "Epoch [1], train_loss: 0.1474, train_accuracy: 98.8801, valid_loss: 0.1159, valid_accuracy: 100.0000\n",
            "Epoch [2], train_loss: 0.1447, train_accuracy: 99.0119, valid_loss: 0.1149, valid_accuracy: 98.8095\n",
            "Epoch [3], train_loss: 0.1393, train_accuracy: 99.1436, valid_loss: 0.1172, valid_accuracy: 99.4048\n",
            "Epoch [4], train_loss: 0.1332, train_accuracy: 99.1436, valid_loss: 0.1172, valid_accuracy: 99.4048\n",
            "Epoch [5], train_loss: 0.1314, train_accuracy: 99.3412, valid_loss: 0.1208, valid_accuracy: 99.4048\n",
            "Epoch [6], train_loss: 0.1292, train_accuracy: 99.3412, valid_loss: 0.1191, valid_accuracy: 98.8095\n",
            "Epoch [7], train_loss: 0.1304, train_accuracy: 99.2095, valid_loss: 0.1159, valid_accuracy: 98.8095\n",
            "Epoch [8], train_loss: 0.1256, train_accuracy: 99.0777, valid_loss: 0.1191, valid_accuracy: 98.8095\n",
            "Epoch [9], train_loss: 0.1201, train_accuracy: 99.2754, valid_loss: 0.1168, valid_accuracy: 98.8095\n",
            "Epoch [10], train_loss: 0.1215, train_accuracy: 99.4730, valid_loss: 0.1194, valid_accuracy: 98.8095\n",
            "Fold 10\n",
            "Epoch [1], train_loss: 0.1162, train_accuracy: 99.4071, valid_loss: 0.1076, valid_accuracy: 99.4048\n",
            "Epoch [2], train_loss: 0.1150, train_accuracy: 99.2754, valid_loss: 0.1078, valid_accuracy: 100.0000\n",
            "Epoch [3], train_loss: 0.1104, train_accuracy: 99.2754, valid_loss: 0.1059, valid_accuracy: 99.4048\n",
            "Epoch [4], train_loss: 0.1096, train_accuracy: 99.6706, valid_loss: 0.1087, valid_accuracy: 99.4048\n",
            "Epoch [5], train_loss: 0.1093, train_accuracy: 99.3412, valid_loss: 0.1061, valid_accuracy: 99.4048\n",
            "Epoch [6], train_loss: 0.1068, train_accuracy: 99.3412, valid_loss: 0.1073, valid_accuracy: 99.4048\n",
            "Epoch [7], train_loss: 0.1044, train_accuracy: 99.4730, valid_loss: 0.1076, valid_accuracy: 99.4048\n",
            "Epoch [8], train_loss: 0.1005, train_accuracy: 99.4730, valid_loss: 0.1047, valid_accuracy: 100.0000\n",
            "Epoch [9], train_loss: 0.1016, train_accuracy: 99.6706, valid_loss: 0.1056, valid_accuracy: 100.0000\n",
            "Epoch [10], train_loss: 0.0988, train_accuracy: 99.4071, valid_loss: 0.1115, valid_accuracy: 99.4048\n"
          ]
        }
      ]
    },
    {
      "cell_type": "code",
      "execution_count": 16,
      "metadata": {
        "id": "K5yvLQqpPZNL"
      },
      "outputs": [],
      "source": [
        "torch.cuda.empty_cache()"
      ]
    },
    {
      "cell_type": "code",
      "execution_count": null,
      "metadata": {
        "id": "KRdgjV8dMiNV"
      },
      "outputs": [],
      "source": [
        "#torch.save(model.state_dict(), os.path.join(model_path,\"model.pth\"))"
      ]
    },
    {
      "cell_type": "code",
      "execution_count": 17,
      "metadata": {
        "id": "X9I3yOlQDTQA",
        "colab": {
          "base_uri": "https://localhost:8080/",
          "height": 295
        },
        "outputId": "55410cba-318e-4057-e0db-186111d95cb0"
      },
      "outputs": [
        {
          "output_type": "display_data",
          "data": {
            "text/plain": [
              "<Figure size 432x288 with 1 Axes>"
            ],
            "image/png": "[encoded data removed]"
          },
          "metadata": {
            "needs_background": "light"
          }
        }
      ],
      "source": [
        "import matplotlib.pyplot as plt\n",
        "def plot_losses(results):\n",
        "    \"\"\" Plot the losses in each epoch\"\"\"\n",
        "\n",
        "    for result in results:\n",
        "      train_losses = [x.get('train_loss') for x in result]\n",
        "      val_losses = [x['valid_loss'] for x in result]\n",
        "      plt.plot(train_losses, '-bx')\n",
        "      plt.plot(val_losses, '-rx')\n",
        "      plt.xlabel('epoch')\n",
        "      plt.ylabel('loss')\n",
        "      plt.legend(['Training', 'Validation'])\n",
        "      plt.title('Loss vs. No. of epochs');\n",
        "\n",
        "plot_losses(final_results)\n"
      ]
    },
    {
      "cell_type": "code",
      "execution_count": 18,
      "metadata": {
        "id": "pQ_etji7DVQn"
      },
      "outputs": [],
      "source": [
        "test_loader = torch.utils.data.DataLoader(dataset=test_split, batch_size=batch_size, shuffle=True, num_workers=0)"
      ]
    },
    {
      "cell_type": "code",
      "execution_count": 19,
      "metadata": {
        "id": "LqwEqAHwDXIc",
        "colab": {
          "base_uri": "https://localhost:8080/"
        },
        "outputId": "82c10243-12f7-460e-a289-56b453466583"
      },
      "outputs": [
        {
          "output_type": "stream",
          "name": "stdout",
          "text": [
            "Test Accuracy of the model: 78.71148459383754 %\n"
          ]
        }
      ],
      "source": [
        "y_true = torch.tensor([])\n",
        "y_true = y_true.to(device)\n",
        "y_preds = torch.tensor([])\n",
        "y_preds = y_preds.to(device)\n",
        "\n",
        "\n",
        "# test-the-model\n",
        "model.eval()  # it-disables-dropout\n",
        "with torch.no_grad():\n",
        "    correct = 0\n",
        "    total = 0\n",
        "    for images, labels in test_loader:\n",
        "        images = images.to(device)\n",
        "        labels = labels.to(device)\n",
        "        y_true = torch.cat((y_true, labels))\n",
        "        outputs = model(images)\n",
        "        _, predicted = torch.max(outputs.data, 1)\n",
        "        total += labels.size(0)\n",
        "        correct += (predicted == labels).sum().item()\n",
        "        y_preds = torch.cat((y_preds, predicted))\n",
        "          \n",
        "    print('Test Accuracy of the model: {} %'.format(100 * correct / total))\n",
        "\n",
        "y_true = y_true.to('cpu')\n",
        "y_preds = y_preds.to('cpu')\n"
      ]
    },
    {
      "cell_type": "code",
      "execution_count": 20,
      "metadata": {
        "id": "ZmVA2T_-DY8y",
        "colab": {
          "base_uri": "https://localhost:8080/",
          "height": 459
        },
        "outputId": "d4e38853-6029-41f1-d637-f52f3ce3b354"
      },
      "outputs": [
        {
          "output_type": "display_data",
          "data": {
            "text/plain": [
              "<Figure size 720x504 with 2 Axes>"
            ],
            "image/png": "[encoded data removed]"
          },
          "metadata": {
            "needs_background": "light"
          }
        }
      ],
      "source": [
        "from sklearn.metrics import confusion_matrix, classification_report\n",
        "import seaborn as sns\n",
        "\n",
        "# show confusion matrix\n",
        "def show_confusion_matrix(y_true, y_preds):\n",
        "    matrix = confusion_matrix(y_true, y_preds)\n",
        "    plt.figure(figsize = (10,7))\n",
        "    ax = sns.heatmap(matrix, fmt='', annot=True, cmap='Blues')\n",
        "    ax.set_title('Confusion Matrix with labels!!');\n",
        "    ax.set_xlabel('Predicted Mask Type')\n",
        "    ax.set_ylabel('Actual Mask Type')\n",
        "    ax.xaxis.set_ticklabels([i for i in classes.keys()])\n",
        "    ax.yaxis.set_ticklabels([i for i in classes.keys()])\n",
        "    plt.show()\n",
        "\n",
        "show_confusion_matrix(y_true, y_preds)\n"
      ]
    },
    {
      "cell_type": "code",
      "source": [
        ""
      ],
      "metadata": {
        "id": "f-AlL9XVw2mk"
      },
      "execution_count": null,
      "outputs": []
    },
    {
      "cell_type": "code",
      "execution_count": 21,
      "metadata": {
        "id": "jAm17GH0Dadt",
        "pycharm": {
          "name": "#%%\n"
        },
        "colab": {
          "base_uri": "https://localhost:8080/"
        },
        "outputId": "fe873253-5f14-45f5-c492-4b81f1889a16"
      },
      "outputs": [
        {
          "output_type": "stream",
          "name": "stdout",
          "text": [
            "              precision    recall  f1-score   support\n",
            "\n",
            "         0.0       0.67      0.80      0.73        64\n",
            "         1.0       0.71      0.63      0.67        59\n",
            "         2.0       0.60      0.58      0.59        64\n",
            "         3.0       0.88      0.85      0.87        96\n",
            "         4.0       1.00      1.00      1.00        74\n",
            "\n",
            "    accuracy                           0.79       357\n",
            "   macro avg       0.77      0.77      0.77       357\n",
            "weighted avg       0.79      0.79      0.79       357\n",
            "\n"
          ]
        }
      ],
      "source": [
        "from sklearn.metrics import precision_recall_fscore_support as score\n",
        "precision, recall, fscore, support = score(y_true, y_preds)\n",
        "print(classification_report(y_true,y_preds))"
      ]
    }
  ],
  "metadata": {
    "accelerator": "GPU",
    "colab": {
      "collapsed_sections": [],
      "name": "Covid_Mask_Detection Final.ipynb",
      "provenance": []
    },
    "kernelspec": {
      "display_name": "Python 3 (ipykernel)",
      "language": "python",
      "name": "python3"
    },
    "language_info": {
      "codemirror_mode": {
        "name": "ipython",
        "version": 3
      },
      "file_extension": ".py",
      "mimetype": "text/x-python",
      "name": "python",
      "nbconvert_exporter": "python",
      "pygments_lexer": "ipython3",
      "version": "3.8.5"
    }
  },
  "nbformat": 4,
  "nbformat_minor": 0
}