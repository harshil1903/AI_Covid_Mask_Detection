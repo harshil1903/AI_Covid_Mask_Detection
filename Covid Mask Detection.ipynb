{
 "cells": [
  {
   "cell_type": "markdown",
   "metadata": {},
   "source": [
    "# Tensorflow with GPU\n",
    "\n",
    "This notebook provides an introduction to computing on a [GPU](https://cloud.google.com/gpu) in Colab. In this notebook you will connect to a GPU, and then run some basic TensorFlow operations on both the CPU and a GPU, observing the speedup provided by using the GPU.\n"
   ]
  },
  {
   "cell_type": "markdown",
   "metadata": {},
   "source": [
    "## Enabling and testing the GPU\n",
    "\n",
    "First, you'll need to enable GPUs for the notebook:\n",
    "\n",
    "- Navigate to Edit→Notebook Settings\n",
    "- select GPU from the Hardware Accelerator drop-down\n",
    "\n",
    "Next, we'll confirm that we can connect to the GPU with tensorflow:"
   ]
  },
  {
   "cell_type": "code",
   "execution_count": 1,
   "metadata": {
    "colab": {
     "base_uri": "https://localhost:8080/"
    },
    "id": "Ch94pawd2kKu",
    "outputId": "7ff77d76-bd78-4504-d994-9199cf5d2ea2"
   },
   "outputs": [
    {
     "name": "stdout",
     "output_type": "stream",
     "text": [
      "Mounted at /content/gdrive\n"
     ]
    }
   ],
   "source": [
    "from google.colab import drive\n",
    "drive.mount('/content/gdrive')\n"
   ]
  },
  {
   "cell_type": "code",
   "execution_count": 25,
   "metadata": {
    "id": "l1C2Mp5r8M-l"
   },
   "outputs": [],
   "source": [
    "import pandas as pd\n",
    "import os\n",
    "from os.path import isfile, join\n",
    "from torch.utils.data import Dataset\n",
    "from PIL import Image\n",
    "import random\n",
    "import torch\n",
    "import torch.nn as nn\n",
    "import torchvision.transforms as transforms\n",
    "\n",
    "\n",
    "BASE = \"./Dataset\"\n",
    "#BASE = \"gdrive/MyDrive/Dataset\"\n",
    "cloth_folder = os.path.join(BASE, \"Cloth Mask\")\n",
    "n95_folder = os.path.join(BASE, \"N95\")\n",
    "n95valve_folder = os.path.join(BASE, \"N95 mask with valve\")\n",
    "surgical_folder = os.path.join(BASE, \"Surgical Mask\")\n",
    "without_mask_folder = os.path.join(BASE, \"No Mask\")\n",
    "root_folder = (\"./\")\n",
    "\n"
   ]
  },
  {
   "cell_type": "code",
   "execution_count": 26,
   "metadata": {
    "pycharm": {
     "name": "#%%\n"
    }
   },
   "outputs": [],
   "source": [
    "# create directory\n",
    "def make_dir(dir_path):\n",
    "    if not os.path.isdir(dir_path):\n",
    "        os.makedirs(dir_path)\n",
    "\n",
    "model_path = os.path.join(root_folder, 'model/AI.pth')\n",
    "make_dir(model_path)\n",
    "\n",
    "# predefined classes\n",
    "classes = {\n",
    "    \"cloth\": 0,\n",
    "    \"n95\": 1,\n",
    "    \"n95valve\": 2,\n",
    "    \"surgical\": 3,\n",
    "    \"without_mask\": 4\n",
    "}\n"
   ]
  },
  {
   "cell_type": "code",
   "execution_count": 27,
   "metadata": {
    "pycharm": {
     "name": "#%%\n"
    }
   },
   "outputs": [],
   "source": [
    "class FaceMaskDataset(Dataset):\n",
    "    dataset = []\n",
    "    conversion = None\n",
    "\n",
    "    def __init__(self, images, indexes, conversion=transforms.ToTensor()):\n",
    "        self.conversion = conversion\n",
    "        self.dataset = images[int(indexes[0]):int(indexes[1])]\n",
    "        \n",
    "    \n",
    "    def __len__(self):\n",
    "        return len(self.dataset)\n",
    "\n",
    "    def __getitem__(self, index):\n",
    "        image = self.dataset[index]['image']\n",
    "        if self.conversion is not None:\n",
    "            image = self.conversion(image)\n",
    "        return image, self.dataset[index]['target']\n",
    "\n"
   ]
  },
  {
   "cell_type": "code",
   "execution_count": 28,
   "metadata": {
    "pycharm": {
     "name": "#%%\n"
    }
   },
   "outputs": [],
   "source": [
    "\n",
    "def load_images():\n",
    "  dat = []\n",
    "  cnt = 0   \n",
    "  for filename in os.listdir(cloth_folder):\n",
    "    try:\n",
    "        sample = {}\n",
    "        img = Image.open(os.path.join(cloth_folder, filename)).convert('RGB')\n",
    "        sample['image'] = img\n",
    "        sample['target'] = classes['cloth']\n",
    "        dat.append(sample)\n",
    "    except:\n",
    "        continue\n",
    "\n",
    "  for filename in os.listdir(n95_folder):\n",
    "    try:\n",
    "        sample = {}\n",
    "        img = Image.open(os.path.join(n95_folder, filename)).convert('RGB')\n",
    "        sample['image'] = img\n",
    "        sample['target'] = classes['n95']\n",
    "        dat.append(sample)\n",
    "    except:\n",
    "        continue\n",
    "\n",
    "  for filename in os.listdir(n95valve_folder):\n",
    "    try:\n",
    "        sample = {}\n",
    "        img = Image.open(os.path.join(n95valve_folder, filename)).convert('RGB')\n",
    "        sample['image'] = img\n",
    "        sample['target'] = classes['n95valve']\n",
    "        dat.append(sample)\n",
    "        cnt += 1\n",
    "    except:\n",
    "        continue\n",
    "\n",
    "  for filename in os.listdir(surgical_folder):\n",
    "    try:\n",
    "        sample = {}\n",
    "        img = Image.open(os.path.join(surgical_folder, filename)).convert('RGB')\n",
    "        sample['image'] = img\n",
    "        sample['target'] = classes['surgical']\n",
    "        dat.append(sample)\n",
    "    except:\n",
    "        continue\n",
    "\n",
    "  for filename in os.listdir(without_mask_folder):\n",
    "    try:\n",
    "        sample = {}\n",
    "        img = Image.open(os.path.join(without_mask_folder, filename)).convert('RGB')\n",
    "        sample['image'] = img\n",
    "        sample['target'] = classes['without_mask']\n",
    "        dat.append(sample)\n",
    "    except:\n",
    "        continue\n",
    "\n",
    "  return dat\n",
    "\n"
   ]
  },
  {
   "cell_type": "code",
   "execution_count": 29,
   "metadata": {
    "pycharm": {
     "name": "#%%\n"
    }
   },
   "outputs": [
    {
     "name": "stderr",
     "output_type": "stream",
     "text": [
      "C:\\ProgramData\\Anaconda3\\lib\\site-packages\\PIL\\Image.py:2966: UserWarning: image file could not be identified because WEBP support not installed\n",
      "  warnings.warn(message)\n"
     ]
    },
    {
     "name": "stdout",
     "output_type": "stream",
     "text": [
      "size_of_the_dataset 2065\n",
      "Effective train split = 0 to 1548.75\n",
      "Effective test split = 1548.75 to 2065\n"
     ]
    }
   ],
   "source": [
    "\n",
    "train_split_percentage = 0.75\n",
    "test_split_percentage = 0.25\n",
    "\n",
    "#load images into memory\n",
    "images = load_images()\n",
    "random.shuffle(images)\n",
    "size_of_the_dataset = len(images)\n",
    "print(\"size_of_the_dataset\", size_of_the_dataset)\n",
    "\n",
    "\n",
    "batch_size = 25\n",
    "num_of_classes = len(classes.keys())\n",
    "\n",
    "\n",
    "train_indexes = [0, train_split_percentage * size_of_the_dataset]\n",
    "test_indexes = [train_split_percentage * size_of_the_dataset, size_of_the_dataset]\n",
    "\n",
    "\n",
    "print(f\"Effective train split = {train_indexes[0]} to {train_indexes[1]}\")\n",
    "print(f\"Effective test split = {test_indexes[0]} to {test_indexes[1]}\")\n"
   ]
  },
  {
   "cell_type": "code",
   "execution_count": 30,
   "metadata": {
    "id": "TO7ADauS9jDQ"
   },
   "outputs": [],
   "source": [
    "transform = transforms.Compose(\n",
    "    [transforms.Resize((250, 250)),\n",
    "        transforms.ToTensor(),\n",
    "        transforms.Normalize(mean=[0.485, 0.456, 0.406],\n",
    "                                       std=[0.229, 0.224, 0.225])])"
   ]
  },
  {
   "cell_type": "code",
   "execution_count": 31,
   "metadata": {
    "colab": {
     "base_uri": "https://localhost:8080/"
    },
    "id": "u6MK3oHR_9Ag",
    "outputId": "4c80fff4-8b18-44ca-b80c-1d01f3caf715"
   },
   "outputs": [
    {
     "name": "stdout",
     "output_type": "stream",
     "text": [
      "Loading training set\n",
      "Train Dataset length  1548\n"
     ]
    }
   ],
   "source": [
    "\n",
    "print(\"Loading training set\")\n",
    "train_dataset = FaceMaskDataset(images, train_indexes, conversion=transform)\n",
    "\n",
    "print(\"Train Dataset length \", len(train_dataset))\n",
    "\n",
    "train_loader = torch.utils.data.DataLoader(dataset=train_dataset, batch_size=batch_size, shuffle=True, num_workers=0)"
   ]
  },
  {
   "cell_type": "code",
   "execution_count": 32,
   "metadata": {
    "colab": {
     "base_uri": "https://localhost:8080/"
    },
    "id": "zPf7fIkWCrHt",
    "outputId": "d5e44251-516e-4d96-b9fb-1ee0d3828986"
   },
   "outputs": [
    {
     "name": "stdout",
     "output_type": "stream",
     "text": [
      "Using device: cpu\n"
     ]
    }
   ],
   "source": [
    "\n",
    "device = torch.device('cuda' if torch.cuda.is_available() else 'cpu')\n",
    "print('Using device:', device)\n"
   ]
  },
  {
   "cell_type": "code",
   "execution_count": 33,
   "metadata": {
    "id": "R_d4f7KzCut_"
   },
   "outputs": [],
   "source": [
    "import torch.nn as nn\n",
    "import torch.nn.functional as F\n",
    "\n",
    "class FaceMaskClassificationBase(nn.Module):\n",
    "    def training_step(self, batch):\n",
    "        images, labels = batch \n",
    "        out = self(images)                  # Generate predictions\n",
    "        loss = F.cross_entropy(out, labels) # Calculate loss\n",
    "        return loss\n",
    "    \n",
    "    def epoch_end(self, epoch, result):\n",
    "        print(\"Epoch [{}], train_loss: {:.4f}\".format(epoch+1, result['train_loss']))"
   ]
  },
  {
   "cell_type": "code",
   "execution_count": 34,
   "metadata": {
    "id": "Q7t03d6LCx2x"
   },
   "outputs": [],
   "source": [
    "class CNN(FaceMaskClassificationBase):\n",
    "    def __init__(self):\n",
    "        super(CNN, self).__init__()\n",
    "        self.conv_layer = nn.Sequential(\n",
    "            nn.Conv2d(in_channels=3, out_channels=32, kernel_size=3, padding=1),\n",
    "            nn.BatchNorm2d(32),\n",
    "            nn.LeakyReLU(inplace=True),\n",
    "            nn.Conv2d(in_channels=32, out_channels=32, kernel_size=3, padding=1),\n",
    "            nn.BatchNorm2d(32),\n",
    "            nn.LeakyReLU(inplace=True),\n",
    "            nn.MaxPool2d(kernel_size=2, stride=2),\n",
    "            nn.Conv2d(in_channels=32, out_channels=64, kernel_size=3, padding=1),\n",
    "            nn.BatchNorm2d(64),\n",
    "            nn.LeakyReLU(inplace=True),\n",
    "            nn.Conv2d(in_channels=64, out_channels=64, kernel_size=3, padding=1),\n",
    "            nn.BatchNorm2d(64),\n",
    "            nn.LeakyReLU(inplace=True),\n",
    "            nn.MaxPool2d(kernel_size=2, stride=2),\n",
    "        )\n",
    "        self.fc_layer = nn.Sequential(\n",
    "            nn.Dropout(p=0.1),\n",
    "            nn.Linear(246016, 1024),\n",
    "            nn.ReLU(inplace=True),\n",
    "            nn.Linear(1024, 512),\n",
    "            nn.ReLU(inplace=True),\n",
    "            nn.Dropout(p=0.1),\n",
    "            nn.Linear(512, num_of_classes),\n",
    "        )\n",
    "\n",
    "    def forward(self, x):\n",
    "        # conv layers\n",
    "        x = self.conv_layer(x)\n",
    "        # flatten\n",
    "        x = x.view(x.size(0), -1)\n",
    "        # fc layer\n",
    "        x = self.fc_layer(x)\n",
    "        return x\n"
   ]
  },
  {
   "cell_type": "code",
   "execution_count": 35,
   "metadata": {
    "id": "O3qV7rw3C0qn"
   },
   "outputs": [],
   "source": [
    "\n",
    "def fit(epochs, lr, model, train_loader, opt_func = torch.optim.SGD):\n",
    "    \n",
    "    results = []\n",
    "    optimizer = opt_func(model.parameters(),lr)\n",
    "    for epoch in range(epochs):\n",
    "        model.train()\n",
    "        train_losses = []\n",
    "        for batch in train_loader:\n",
    "            images, labels = batch\n",
    "            # forward-pass: compute-predicted-outputs-by-passing-inputs-to-the-model\n",
    "            loss = model.training_step(batch)\n",
    "            # update-training-loss\n",
    "            train_losses.append(loss)\n",
    "            # backward-pass: compute-gradient-of-the-loss-wrt-model-parameters\n",
    "            loss.backward()\n",
    "            # perform-a-single-optimization-step (parameter-update)\n",
    "            optimizer.step()\n",
    "            # clear-the-gradients-of-all-optimized-variables\n",
    "            optimizer.zero_grad()\n",
    "            \n",
    "        result = {}\n",
    "        result['train_loss'] = torch.stack(train_losses).mean().item()\n",
    "        model.epoch_end(epoch, result)\n",
    "        results.append(result)\n",
    "    \n",
    "    return results"
   ]
  },
  {
   "cell_type": "code",
   "execution_count": 36,
   "metadata": {
    "id": "hKulzxEAC32J"
   },
   "outputs": [],
   "source": [
    "\n",
    "model = CNN()"
   ]
  },
  {
   "cell_type": "code",
   "execution_count": 37,
   "metadata": {
    "id": "K5yvLQqpPZNL"
   },
   "outputs": [],
   "source": [
    "torch.cuda.empty_cache()"
   ]
  },
  {
   "cell_type": "code",
   "execution_count": 38,
   "metadata": {
    "colab": {
     "base_uri": "https://localhost:8080/",
     "height": 362
    },
    "id": "R3iCsD3dC8y4",
    "outputId": "efd84a1d-4f8b-4877-dfac-9163fa3acff3"
   },
   "outputs": [
    {
     "name": "stdout",
     "output_type": "stream",
     "text": [
      "Epoch [1], train_loss: 1.5007\n",
      "Epoch [2], train_loss: 1.1537\n",
      "Epoch [3], train_loss: 0.9928\n",
      "Epoch [4], train_loss: 0.7775\n",
      "Epoch [5], train_loss: 0.5821\n",
      "Epoch [6], train_loss: 0.4672\n",
      "Epoch [7], train_loss: 0.1921\n",
      "Epoch [8], train_loss: 0.1070\n",
      "Epoch [9], train_loss: 0.0448\n",
      "Epoch [10], train_loss: 0.0151\n",
      "Epoch [11], train_loss: 0.0074\n",
      "Epoch [12], train_loss: 0.0046\n",
      "Epoch [13], train_loss: 0.0042\n",
      "Epoch [14], train_loss: 0.0033\n",
      "Epoch [15], train_loss: 0.0027\n",
      "Epoch [16], train_loss: 0.0025\n",
      "Epoch [17], train_loss: 0.0025\n",
      "Epoch [18], train_loss: 0.0018\n",
      "Epoch [19], train_loss: 0.0016\n",
      "Epoch [20], train_loss: 0.0015\n"
     ]
    }
   ],
   "source": [
    "results = fit(20, 0.01, model, train_loader, torch.optim.ASGD)\n"
   ]
  },
  {
   "cell_type": "code",
   "execution_count": 40,
   "metadata": {},
   "outputs": [],
   "source": [
    "torch.save(model.state_dict(), os.path.join(model_path,\"model.pth\"))"
   ]
  },
  {
   "cell_type": "code",
   "execution_count": 17,
   "metadata": {
    "id": "xJmjKcHYDQw4"
   },
   "outputs": [],
   "source": []
  },
  {
   "cell_type": "code",
   "execution_count": 39,
   "metadata": {
    "id": "X9I3yOlQDTQA"
   },
   "outputs": [
    {
     "data": {
      "image/png": "[encoded data removed]",
      "text/plain": [
       "<Figure size 432x288 with 1 Axes>"
      ]
     },
     "metadata": {
      "needs_background": "light"
     },
     "output_type": "display_data"
    }
   ],
   "source": [
    "import matplotlib.pyplot as plt\n",
    "def plot_losses(results):\n",
    "    \"\"\" Plot the losses in each epoch\"\"\"\n",
    "    train_losses = [x.get('train_loss') for x in results]\n",
    "    plt.plot(train_losses, '-bx')\n",
    "    plt.xlabel('epoch')\n",
    "    plt.ylabel('loss')\n",
    "    plt.title('Loss vs. No. of epochs');\n",
    "\n",
    "plot_losses(results)\n"
   ]
  },
  {
   "cell_type": "code",
   "execution_count": 41,
   "metadata": {
    "id": "pQ_etji7DVQn"
   },
   "outputs": [],
   "source": [
    "test_dataset = FaceMaskDataset(images, test_indexes, conversion=transform)\n",
    "test_loader = torch.utils.data.DataLoader(dataset=test_dataset, batch_size=batch_size, shuffle=True, num_workers=0)"
   ]
  },
  {
   "cell_type": "code",
   "execution_count": 42,
   "metadata": {
    "id": "LqwEqAHwDXIc"
   },
   "outputs": [
    {
     "name": "stdout",
     "output_type": "stream",
     "text": [
      "Test Accuracy of the model: 60.154738878143135 %\n"
     ]
    }
   ],
   "source": [
    "y_true = torch.tensor([])\n",
    "y_preds = torch.tensor([])\n",
    "\n",
    "# test-the-model\n",
    "model.eval()  # it-disables-dropout\n",
    "with torch.no_grad():\n",
    "    correct = 0\n",
    "    total = 0\n",
    "    for images, labels in test_loader:\n",
    "        y_true = torch.cat((y_true, labels))\n",
    "        outputs = model(images)\n",
    "        _, predicted = torch.max(outputs.data, 1)\n",
    "        total += labels.size(0)\n",
    "        correct += (predicted == labels).sum().item()\n",
    "        y_preds = torch.cat((y_preds, predicted))\n",
    "          \n",
    "    print('Test Accuracy of the model: {} %'.format(100 * correct / total))\n"
   ]
  },
  {
   "cell_type": "code",
   "execution_count": 43,
   "metadata": {
    "id": "ZmVA2T_-DY8y"
   },
   "outputs": [
    {
     "data": {
      "image/png": "[encoded data removed]",
      "text/plain": [
       "<Figure size 720x504 with 2 Axes>"
      ]
     },
     "metadata": {
      "needs_background": "light"
     },
     "output_type": "display_data"
    }
   ],
   "source": [
    "from sklearn.metrics import confusion_matrix, classification_report\n",
    "import seaborn as sns\n",
    "\n",
    "# show confusion matrix\n",
    "def show_confusion_matrix(y_true, y_preds):\n",
    "    matrix = confusion_matrix(y_true, y_preds)\n",
    "    plt.figure(figsize = (10,7))\n",
    "    ax = sns.heatmap(matrix, fmt='', annot=True, cmap='Blues')\n",
    "    ax.set_title('Confusion Matrix with labels!!');\n",
    "    ax.set_xlabel('Predicted Mask Type')\n",
    "    ax.set_ylabel('Actual Mask Type')\n",
    "    ax.xaxis.set_ticklabels([i for i in classes.keys()])\n",
    "    ax.yaxis.set_ticklabels([i for i in classes.keys()])\n",
    "    plt.show()\n",
    "\n",
    "show_confusion_matrix(y_true, y_preds)\n"
   ]
  },
  {
   "cell_type": "code",
   "execution_count": 44,
   "metadata": {
    "id": "jAm17GH0Dadt",
    "pycharm": {
     "name": "#%%\n"
    }
   },
   "outputs": [
    {
     "name": "stdout",
     "output_type": "stream",
     "text": [
      "              precision    recall  f1-score   support\n",
      "\n",
      "         0.0       0.59      0.68      0.63       114\n",
      "         1.0       0.55      0.54      0.54        98\n",
      "         2.0       0.53      0.51      0.52        93\n",
      "         3.0       0.59      0.59      0.59       104\n",
      "         4.0       0.75      0.68      0.71       108\n",
      "\n",
      "    accuracy                           0.60       517\n",
      "   macro avg       0.60      0.60      0.60       517\n",
      "weighted avg       0.60      0.60      0.60       517\n",
      "\n"
     ]
    }
   ],
   "source": [
    "from sklearn.metrics import precision_recall_fscore_support as score\n",
    "precision, recall, fscore, support = score(y_true, y_preds)\n",
    "print(classification_report(y_true,y_preds))"
   ]
  }
 ],
 "metadata": {
  "accelerator": "GPU",
  "colab": {
   "collapsed_sections": [],
   "name": "AI Covid Mask Type Detection.ipynb",
   "provenance": []
  },
  "kernelspec": {
   "display_name": "Python 3 (ipykernel)",
   "language": "python",
   "name": "python3"
  },
  "language_info": {
   "codemirror_mode": {
    "name": "ipython",
    "version": 3
   },
   "file_extension": ".py",
   "mimetype": "text/x-python",
   "name": "python",
   "nbconvert_exporter": "python",
   "pygments_lexer": "ipython3",
   "version": "3.8.5"
  }
 },
 "nbformat": 4,
 "nbformat_minor": 4
}