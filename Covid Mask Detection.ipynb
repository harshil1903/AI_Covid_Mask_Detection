{
 "cells": [
  {
   "cell_type": "markdown",
   "metadata": {},
   "source": [
    "# Tensorflow with GPU\n",
    "\n",
    "This notebook provides an introduction to computing on a [GPU](https://cloud.google.com/gpu) in Colab. In this notebook you will connect to a GPU, and then run some basic TensorFlow operations on both the CPU and a GPU, observing the speedup provided by using the GPU.\n"
   ]
  },
  {
   "cell_type": "markdown",
   "metadata": {},
   "source": [
    "## Enabling and testing the GPU\n",
    "\n",
    "First, you'll need to enable GPUs for the notebook:\n",
    "\n",
    "- Navigate to Edit→Notebook Settings\n",
    "- select GPU from the Hardware Accelerator drop-down\n",
    "\n",
    "Next, we'll confirm that we can connect to the GPU with tensorflow:"
   ]
  },
  {
   "cell_type": "code",
   "execution_count": 1,
   "metadata": {
    "colab": {
     "base_uri": "https://localhost:8080/"
    },
    "id": "Ch94pawd2kKu",
    "outputId": "7ff77d76-bd78-4504-d994-9199cf5d2ea2"
   },
   "outputs": [
    {
     "name": "stdout",
     "output_type": "stream",
     "text": [
      "Mounted at /content/gdrive\n"
     ]
    }
   ],
   "source": [
    "from google.colab import drive\n",
    "drive.mount('/content/gdrive')\n"
   ]
  },
  {
   "cell_type": "code",
   "execution_count": 33,
   "metadata": {
    "id": "l1C2Mp5r8M-l"
   },
   "outputs": [],
   "source": [
    "import pandas as pd\n",
    "import os\n",
    "from os.path import isfile, join\n",
    "from torch.utils.data import Dataset\n",
    "from PIL import Image\n",
    "import random\n",
    "import torch\n",
    "import torch.nn as nn\n",
    "import torchvision.transforms as transforms\n",
    "\n",
    "\n",
    "BASE = \"./Dataset\"\n",
    "#BASE = \"gdrive/MyDrive/Dataset\"\n",
    "cloth_folder = os.path.join(BASE, \"Cloth Mask\")\n",
    "n95_folder = os.path.join(BASE, \"N95\")\n",
    "n95valve_folder = os.path.join(BASE, \"N95 mask with valve\")\n",
    "surgical_folder = os.path.join(BASE, \"Surgical Mask\")\n",
    "without_mask_folder = os.path.join(BASE, \"No Mask\")\n",
    "root_folder = (\"./\")\n",
    "\n"
   ]
  },
  {
   "cell_type": "code",
   "execution_count": 34,
   "metadata": {
    "pycharm": {
     "name": "#%%\n"
    }
   },
   "outputs": [],
   "source": [
    "# predefined classes\n",
    "classes = {\n",
    "    \"cloth\": 0,\n",
    "    \"n95\": 1,\n",
    "    \"n95valve\": 2,\n",
    "    \"surgical\": 3,\n",
    "    \"without_mask\": 4\n",
    "}\n"
   ]
  },
  {
   "cell_type": "code",
   "execution_count": 35,
   "metadata": {
    "pycharm": {
     "name": "#%%\n"
    }
   },
   "outputs": [],
   "source": [
    "class FaceMaskDataset(Dataset):\n",
    "    dataset = []\n",
    "    conversion = None\n",
    "\n",
    "    def __init__(self, images, indexes, conversion=transforms.ToTensor()):\n",
    "        self.conversion = conversion\n",
    "        self.dataset = images[int(indexes[0]):int(indexes[1])]\n",
    "        \n",
    "    \n",
    "    def __len__(self):\n",
    "        return len(self.dataset)\n",
    "\n",
    "    def __getitem__(self, index):\n",
    "        image = self.dataset[index]['image']\n",
    "        if self.conversion is not None:\n",
    "            image = self.conversion(image)\n",
    "        return image, self.dataset[index]['target']\n",
    "\n"
   ]
  },
  {
   "cell_type": "code",
   "execution_count": 36,
   "metadata": {
    "pycharm": {
     "name": "#%%\n"
    }
   },
   "outputs": [],
   "source": [
    "# Load images from the dataset\n",
    "def load_images():\n",
    "  dat = []\n",
    "  for filename in os.listdir(cloth_folder):\n",
    "    try:\n",
    "        sample = {}\n",
    "        img = Image.open(os.path.join(cloth_folder, filename)).convert('RGB')\n",
    "        sample['image'] = img\n",
    "        sample['target'] = classes['cloth']\n",
    "        dat.append(sample)\n",
    "    except:\n",
    "        continue\n",
    "\n",
    "  for filename in os.listdir(n95_folder):\n",
    "    try:\n",
    "        sample = {}\n",
    "        img = Image.open(os.path.join(n95_folder, filename)).convert('RGB')\n",
    "        sample['image'] = img\n",
    "        sample['target'] = classes['n95']\n",
    "        dat.append(sample)\n",
    "    except:\n",
    "        continue\n",
    "\n",
    "  for filename in os.listdir(n95valve_folder):\n",
    "    try:\n",
    "        sample = {}\n",
    "        img = Image.open(os.path.join(n95valve_folder, filename)).convert('RGB')\n",
    "        sample['image'] = img\n",
    "        sample['target'] = classes['n95valve']\n",
    "        dat.append(sample)\n",
    "    except:\n",
    "        continue\n",
    "\n",
    "  for filename in os.listdir(surgical_folder):\n",
    "    try:\n",
    "        sample = {}\n",
    "        img = Image.open(os.path.join(surgical_folder, filename)).convert('RGB')\n",
    "        sample['image'] = img\n",
    "        sample['target'] = classes['surgical']\n",
    "        dat.append(sample)\n",
    "    except:\n",
    "        continue\n",
    "\n",
    "  for filename in os.listdir(without_mask_folder):\n",
    "    try:\n",
    "        sample = {}\n",
    "        img = Image.open(os.path.join(without_mask_folder, filename)).convert('RGB')\n",
    "        sample['image'] = img\n",
    "        sample['target'] = classes['without_mask']\n",
    "        dat.append(sample)\n",
    "    except:\n",
    "        continue\n",
    "\n",
    "  return dat\n",
    "\n"
   ]
  },
  {
   "cell_type": "code",
   "execution_count": 37,
   "metadata": {
    "pycharm": {
     "name": "#%%\n"
    }
   },
   "outputs": [
    {
     "name": "stdout",
     "output_type": "stream",
     "text": [
      "size_of_the_dataset 2065\n",
      "Effective train split = 0 to 1548.75\n",
      "Effective val split = 1548.75 to 1858.5\n",
      "Effective test split = 1858.5 to 2065\n"
     ]
    }
   ],
   "source": [
    "train_split_percentage = 0.75\n",
    "validation_split_percentage = 0.15\n",
    "test_split_percentage = 0.1\n",
    "\n",
    "#load images into memory\n",
    "images = load_images()\n",
    "random.shuffle(images)\n",
    "size_of_the_dataset = len(images)\n",
    "print(\"size_of_the_dataset\", size_of_the_dataset)\n",
    "\n",
    "\n",
    "batch_size = 25\n",
    "num_of_classes = len(classes.keys())\n",
    "\n",
    "train_indexes = [0, train_split_percentage * size_of_the_dataset]\n",
    "validation_indexes = [train_split_percentage * size_of_the_dataset, (train_split_percentage + validation_split_percentage) * size_of_the_dataset]\n",
    "test_indexes = [(train_split_percentage + validation_split_percentage) * size_of_the_dataset, size_of_the_dataset]\n",
    "\n",
    "\n",
    "print(f\"Effective train split = {train_indexes[0]} to {train_indexes[1]}\")\n",
    "print(f\"Effective val split = {validation_indexes[0]} to {validation_indexes[1]}\")\n",
    "print(f\"Effective test split = {test_indexes[0]} to {test_indexes[1]}\")\n"
   ]
  },
  {
   "cell_type": "code",
   "execution_count": 38,
   "metadata": {
    "id": "TO7ADauS9jDQ"
   },
   "outputs": [],
   "source": [
    "transform = transforms.Compose(\n",
    "    [transforms.Resize((250, 250)),\n",
    "     transforms.ToTensor(),\n",
    "     transforms.Normalize(mean=[0.485, 0.456, 0.406], std=[0.229, 0.224, 0.225])])"
   ]
  },
  {
   "cell_type": "code",
   "execution_count": 39,
   "metadata": {
    "colab": {
     "base_uri": "https://localhost:8080/"
    },
    "id": "u6MK3oHR_9Ag",
    "outputId": "4c80fff4-8b18-44ca-b80c-1d01f3caf715"
   },
   "outputs": [
    {
     "name": "stdout",
     "output_type": "stream",
     "text": [
      "Loading training set\n",
      "Loading validation set\n",
      "Train Dataset length  1548\n",
      "Validation Dataset length  310\n"
     ]
    }
   ],
   "source": [
    "print(\"Loading training set\")\n",
    "train_dataset = FaceMaskDataset(images, train_indexes, conversion=transform)\n",
    "\n",
    "print(\"Loading validation set\")\n",
    "validation_dataset = FaceMaskDataset(images, validation_indexes, conversion=transform)\n",
    "\n",
    "print(\"Train Dataset length \", len(train_dataset))\n",
    "print(\"Validation Dataset length \", len(validation_dataset))\n",
    "\n",
    "train_loader = torch.utils.data.DataLoader(dataset=train_dataset, batch_size=batch_size, shuffle=True, num_workers=0)\n",
    "validation_loader = torch.utils.data.DataLoader(dataset=validation_dataset, batch_size=batch_size, shuffle=False, num_workers=0)"
   ]
  },
  {
   "cell_type": "code",
   "execution_count": 40,
   "metadata": {
    "colab": {
     "base_uri": "https://localhost:8080/"
    },
    "id": "zPf7fIkWCrHt",
    "outputId": "d5e44251-516e-4d96-b9fb-1ee0d3828986"
   },
   "outputs": [
    {
     "name": "stdout",
     "output_type": "stream",
     "text": [
      "Using device: cpu\n"
     ]
    }
   ],
   "source": [
    "device = torch.device('cuda' if torch.cuda.is_available() else 'cpu')\n",
    "print('Using device:', device)\n"
   ]
  },
  {
   "cell_type": "code",
   "execution_count": 41,
   "metadata": {
    "id": "R_d4f7KzCut_"
   },
   "outputs": [],
   "source": [
    "import torch.nn as nn\n",
    "import torch.nn.functional as F\n",
    "\n",
    "class FaceMaskClassificationBase(nn.Module):\n",
    "    def training_step(self, batch):\n",
    "        images, labels = batch \n",
    "        images, labels = images.to(device), labels.to(device)\n",
    "        out = self(images)                  # Generate predictions\n",
    "        loss = F.cross_entropy(out, labels) # Calculate loss\n",
    "        return loss\n",
    "    \n",
    "    def validation_step(self, batch):\n",
    "        images, labels = batch \n",
    "        images, labels = images.to(device), labels.to(device)\n",
    "        out = self(images)                    # Generate predictions\n",
    "        loss = F.cross_entropy(out, labels)   # Calculate loss\n",
    "        acc = accuracy(out, labels)           # Calculate accuracy\n",
    "        return {'validation_loss': loss.detach(), 'validation_acc': acc}\n",
    "        \n",
    "    def validation_epoch_end(self, outputs):\n",
    "        batch_losses = [x['validation_loss'] for x in outputs]\n",
    "        epoch_loss = torch.stack(batch_losses).mean()   # Combine losses\n",
    "        batch_accs = [x['validation_acc'] for x in outputs]\n",
    "        epoch_acc = torch.stack(batch_accs).mean()      # Combine accuracies\n",
    "        return {'validation_loss': epoch_loss.item(), 'validation_acc': epoch_acc.item()}\n",
    "    \n",
    "    def epoch_end(self, epoch, result):\n",
    "        print(\"Epoch [{}], train_loss: {:.4f}, val_loss: {:.4f}, val_acc: {:.4f}\"\n",
    "              .format(epoch+1, result['train_loss'], result['validation_loss'], result['validation_acc']))"
   ]
  },
  {
   "cell_type": "code",
   "execution_count": 42,
   "metadata": {
    "id": "Q7t03d6LCx2x"
   },
   "outputs": [],
   "source": [
    "class CNN(FaceMaskClassificationBase):\n",
    "    def __init__(self):\n",
    "        super(CNN, self).__init__()\n",
    "        self.conv_layer = nn.Sequential(\n",
    "            nn.Conv2d(in_channels=3, out_channels=32, kernel_size=3, padding=1),\n",
    "            nn.BatchNorm2d(32),\n",
    "            nn.LeakyReLU(inplace=True),\n",
    "            nn.Conv2d(in_channels=32, out_channels=32, kernel_size=3, padding=1),\n",
    "            nn.BatchNorm2d(32),\n",
    "            nn.LeakyReLU(inplace=True),\n",
    "            nn.MaxPool2d(kernel_size=2, stride=2),\n",
    "            nn.Conv2d(in_channels=32, out_channels=64, kernel_size=3, padding=1),\n",
    "            nn.BatchNorm2d(64),\n",
    "            nn.LeakyReLU(inplace=True),\n",
    "            nn.Conv2d(in_channels=64, out_channels=64, kernel_size=3, padding=1),\n",
    "            nn.BatchNorm2d(64),\n",
    "            nn.LeakyReLU(inplace=True),\n",
    "            nn.MaxPool2d(kernel_size=2, stride=2),\n",
    "        )\n",
    "        self.fc_layer = nn.Sequential(\n",
    "            nn.Dropout(p=0.1),\n",
    "            nn.Linear(246016, 1024),\n",
    "            nn.ReLU(inplace=True),\n",
    "            nn.Linear(1024, 512),\n",
    "            nn.ReLU(inplace=True),\n",
    "            nn.Dropout(p=0.1),\n",
    "            nn.Linear(512, num_of_classes),\n",
    "        )\n",
    "\n",
    "    def forward(self, x):\n",
    "        x = self.conv_layer(x) # convolution layer\n",
    "        x = x.view(x.size(0), -1) # flatten\n",
    "        x = self.fc_layer(x) # fully connected layer\n",
    "        return x\n"
   ]
  },
  {
   "cell_type": "code",
   "execution_count": 43,
   "metadata": {
    "id": "O3qV7rw3C0qn"
   },
   "outputs": [],
   "source": [
    "\n",
    "def accuracy(outputs, labels):\n",
    "    _, preds = torch.max(outputs, dim=1)\n",
    "    acc = torch.sum(preds == labels).item() / len(preds)\n",
    "    return torch.tensor(acc)\n",
    "\n",
    "  \n",
    "@torch.no_grad()\n",
    "def evaluate(model, val_loader):\n",
    "    model.eval()\n",
    "    outputs = [model.validation_step(batch) for batch in val_loader]\n",
    "    return model.validation_epoch_end(outputs)\n",
    "\n",
    "  \n",
    "def fit(epochs, lr, model, train_loader, val_loader, optimizer_func):\n",
    "    \n",
    "    results = []\n",
    "    optimizer = optimizer_func(model.parameters(), lr)\n",
    "    for epoch in range(epochs):\n",
    "        model.train()\n",
    "        train_losses = []\n",
    "        for batch in train_loader:\n",
    "            # forward-pass: compute-predicted-outputs-by-passing-inputs-to-the-model\n",
    "            loss = model.training_step(batch)\n",
    "            # update-training-loss\n",
    "            train_losses.append(loss)\n",
    "            # backward-pass: compute-gradient-of-the-loss-wrt-model-parameters\n",
    "            loss.backward()\n",
    "            # perform-a-single-optimization-step (parameter-update)\n",
    "            optimizer.step()\n",
    "            # clear-the-gradients-of-all-optimized-variables\n",
    "            optimizer.zero_grad()\n",
    "            \n",
    "        result = evaluate(model, val_loader)\n",
    "        result['train_loss'] = torch.stack(train_losses).mean().item()\n",
    "        model.epoch_end(epoch, result)\n",
    "        results.append(result)\n",
    "    \n",
    "    return results"
   ]
  },
  {
   "cell_type": "code",
   "execution_count": 44,
   "metadata": {
    "id": "hKulzxEAC32J"
   },
   "outputs": [],
   "source": [
    "model = CNN()\n",
    "model = model.to(device)"
   ]
  },
  {
   "cell_type": "code",
   "execution_count": 45,
   "metadata": {
    "id": "K5yvLQqpPZNL"
   },
   "outputs": [],
   "source": [
    "torch.cuda.empty_cache()"
   ]
  },
  {
   "cell_type": "code",
   "execution_count": 46,
   "metadata": {
    "colab": {
     "base_uri": "https://localhost:8080/",
     "height": 362
    },
    "id": "R3iCsD3dC8y4",
    "outputId": "efd84a1d-4f8b-4877-dfac-9163fa3acff3"
   },
   "outputs": [
    {
     "name": "stdout",
     "output_type": "stream",
     "text": [
      "Epoch [1], train_loss: 1.4676, val_loss: 1.3063, val_acc: 0.4215\n",
      "Epoch [2], train_loss: 1.1410, val_loss: 1.1654, val_acc: 0.5169\n",
      "Epoch [3], train_loss: 0.9680, val_loss: 1.0831, val_acc: 0.5692\n",
      "Epoch [4], train_loss: 0.7809, val_loss: 1.2913, val_acc: 0.4754\n",
      "Epoch [5], train_loss: 0.5879, val_loss: 1.3586, val_acc: 0.5169\n",
      "Epoch [6], train_loss: 0.3689, val_loss: 1.2768, val_acc: 0.5400\n",
      "Epoch [7], train_loss: 0.2625, val_loss: 1.3276, val_acc: 0.5800\n",
      "Epoch [8], train_loss: 0.0782, val_loss: 1.5310, val_acc: 0.6246\n",
      "Epoch [9], train_loss: 0.0246, val_loss: 1.5993, val_acc: 0.5954\n",
      "Epoch [10], train_loss: 0.0102, val_loss: 1.5447, val_acc: 0.6246\n",
      "Epoch [11], train_loss: 0.0070, val_loss: 1.6050, val_acc: 0.6277\n",
      "Epoch [12], train_loss: 0.0050, val_loss: 1.6465, val_acc: 0.6308\n",
      "Epoch [13], train_loss: 0.0040, val_loss: 1.6666, val_acc: 0.6185\n",
      "Epoch [14], train_loss: 0.0032, val_loss: 1.6911, val_acc: 0.6277\n",
      "Epoch [15], train_loss: 0.0032, val_loss: 1.7472, val_acc: 0.6369\n",
      "Epoch [16], train_loss: 0.0027, val_loss: 1.7463, val_acc: 0.6277\n",
      "Epoch [17], train_loss: 0.0023, val_loss: 1.7861, val_acc: 0.6154\n",
      "Epoch [18], train_loss: 0.0020, val_loss: 1.8190, val_acc: 0.6185\n",
      "Epoch [19], train_loss: 0.0020, val_loss: 1.7937, val_acc: 0.6246\n",
      "Epoch [20], train_loss: 0.0015, val_loss: 1.8248, val_acc: 0.6277\n",
      "Epoch [21], train_loss: 0.0015, val_loss: 1.8313, val_acc: 0.6369\n",
      "Epoch [22], train_loss: 0.0015, val_loss: 1.8424, val_acc: 0.6277\n",
      "Epoch [23], train_loss: 0.0013, val_loss: 1.8754, val_acc: 0.6277\n",
      "Epoch [24], train_loss: 0.0014, val_loss: 1.8664, val_acc: 0.6277\n",
      "Epoch [25], train_loss: 0.0011, val_loss: 1.8995, val_acc: 0.6185\n",
      "Epoch [26], train_loss: 0.0010, val_loss: 1.8890, val_acc: 0.6246\n",
      "Epoch [27], train_loss: 0.0009, val_loss: 1.8990, val_acc: 0.6215\n",
      "Epoch [28], train_loss: 0.0009, val_loss: 1.8959, val_acc: 0.6215\n",
      "Epoch [29], train_loss: 0.0009, val_loss: 1.9346, val_acc: 0.6308\n",
      "Epoch [30], train_loss: 0.0008, val_loss: 1.9093, val_acc: 0.6185\n"
     ]
    }
   ],
   "source": [
    "results = fit(30, 0.01, model, train_loader, validation_loader, torch.optim.ASGD)\n"
   ]
  },
  {
   "cell_type": "code",
   "execution_count": 47,
   "metadata": {},
   "outputs": [],
   "source": [
    "model_path = os.path.join(root_folder, 'model/AI.pth')\n",
    "torch.save(model.state_dict(), os.path.join(model_path,\"model.pth\"))"
   ]
  },
  {
   "cell_type": "code",
   "execution_count": 48,
   "metadata": {
    "id": "xJmjKcHYDQw4"
   },
   "outputs": [
    {
     "data": {
      "image/png": "[encoded data removed]",
      "text/plain": [
       "<Figure size 432x288 with 1 Axes>"
      ]
     },
     "metadata": {
      "needs_background": "light"
     },
     "output_type": "display_data"
    }
   ],
   "source": [
    "import matplotlib.pyplot as plt\n",
    "\n",
    "# Plot the history of accuracies\n",
    "def plot_accuracies(results):\n",
    "    accuracies = [result['validation_acc'] for result in results]\n",
    "    plt.plot(accuracies, '-x')\n",
    "    plt.xlabel('epoch')\n",
    "    plt.ylabel('accuracy')\n",
    "    plt.title('Accuracy vs. No. of epochs');\n",
    "    \n",
    "\n",
    "plot_accuracies(results)"
   ]
  },
  {
   "cell_type": "code",
   "execution_count": 49,
   "metadata": {
    "id": "X9I3yOlQDTQA"
   },
   "outputs": [
    {
     "data": {
      "image/png": "[encoded data removed]",
      "text/plain": [
       "<Figure size 432x288 with 1 Axes>"
      ]
     },
     "metadata": {
      "needs_background": "light"
     },
     "output_type": "display_data"
    }
   ],
   "source": [
    "# Plot the losses in each epoch\n",
    "def plot_losses(results):\n",
    "\n",
    "    train_losses = [result.get('train_loss') for result in results]\n",
    "    val_losses = [result['validation_loss'] for result in results]\n",
    "    plt.plot(train_losses, '-bx')\n",
    "    plt.plot(val_losses, '-rx')\n",
    "    plt.xlabel('epoch')\n",
    "    plt.ylabel('loss')\n",
    "    plt.legend(['Training', 'Validation'])\n",
    "    plt.title('Loss vs. No. of epochs');\n",
    "\n",
    "plot_losses(results)\n"
   ]
  },
  {
   "cell_type": "code",
   "execution_count": 50,
   "metadata": {
    "id": "pQ_etji7DVQn"
   },
   "outputs": [],
   "source": [
    "test_dataset = FaceMaskDataset(images, test_indexes, conversion=transform)\n",
    "test_loader = torch.utils.data.DataLoader(dataset=test_dataset, batch_size=batch_size, shuffle=True, num_workers=0)"
   ]
  },
  {
   "cell_type": "code",
   "execution_count": 51,
   "metadata": {
    "id": "LqwEqAHwDXIc"
   },
   "outputs": [
    {
     "name": "stdout",
     "output_type": "stream",
     "text": [
      "Test Accuracy of the model: 62.80193236714976 %\n"
     ]
    }
   ],
   "source": [
    "y_true = torch.tensor([])\n",
    "y_true = y_true.to(device)\n",
    "y_preds = torch.tensor([])\n",
    "y_preds = y_preds.to(device)\n",
    "\n",
    "# test-the-model\n",
    "model.eval()  # turn off layers like Dropout layers, BatchNorm Layers\n",
    "with torch.no_grad():\n",
    "    correct = 0\n",
    "    total = 0\n",
    "    for images, labels in test_loader:\n",
    "        images = images.to(device)\n",
    "        labels = labels.to(device)\n",
    "        y_true = torch.cat((y_true, labels))\n",
    "        \n",
    "        outputs = model(images)\n",
    "        _, predicted = torch.max(outputs.data, 1)\n",
    "        total += labels.size(0)\n",
    "        correct += (predicted == labels).sum().item()\n",
    "        y_preds = torch.cat((y_preds, predicted))\n",
    "          \n",
    "    print('Test Accuracy of the model: {} %'.format(100 * correct / total))\n",
    "\n",
    "y_true = y_true.to('cpu')\n",
    "y_preds = y_preds.to('cpu')"
   ]
  },
  {
   "cell_type": "code",
   "execution_count": 52,
   "metadata": {
    "id": "ZmVA2T_-DY8y"
   },
   "outputs": [
    {
     "data": {
      "image/png": "[encoded data removed]",
      "text/plain": [
       "<Figure size 720x504 with 2 Axes>"
      ]
     },
     "metadata": {
      "needs_background": "light"
     },
     "output_type": "display_data"
    }
   ],
   "source": [
    "from sklearn.metrics import confusion_matrix, classification_report\n",
    "import seaborn as sns\n",
    "\n",
    "# show confusion matrix\n",
    "def show_confusion_matrix(y_true, y_preds):\n",
    "    matrix = confusion_matrix(y_true, y_preds)\n",
    "    plt.figure(figsize = (10,7))\n",
    "    ax = sns.heatmap(matrix, fmt='', annot=True, cmap='Blues')\n",
    "    ax.set_title('Confusion Matrix with labels!!');\n",
    "    ax.set_xlabel('Predicted Mask Type')\n",
    "    ax.set_ylabel('Actual Mask Type')\n",
    "    ax.xaxis.set_ticklabels([i for i in classes.keys()])\n",
    "    ax.yaxis.set_ticklabels([i for i in classes.keys()])\n",
    "    plt.show()\n",
    "\n",
    "show_confusion_matrix(y_true, y_preds)\n"
   ]
  },
  {
   "cell_type": "code",
   "execution_count": 53,
   "metadata": {
    "id": "jAm17GH0Dadt"
   },
   "outputs": [
    {
     "name": "stdout",
     "output_type": "stream",
     "text": [
      "              precision    recall  f1-score   support\n",
      "\n",
      "         0.0       0.58      0.62      0.60        50\n",
      "         1.0       0.65      0.54      0.59        41\n",
      "         2.0       0.70      0.59      0.64        39\n",
      "         3.0       0.66      0.64      0.65        42\n",
      "         4.0       0.59      0.77      0.67        35\n",
      "\n",
      "    accuracy                           0.63       207\n",
      "   macro avg       0.63      0.63      0.63       207\n",
      "weighted avg       0.63      0.63      0.63       207\n",
      "\n"
     ]
    }
   ],
   "source": [
    "from sklearn.metrics import precision_recall_fscore_support as score\n",
    "precision, recall, fscore, support = score(y_true, y_preds)\n",
    "print(classification_report(y_true,y_preds))"
   ]
  },
  {
   "cell_type": "code",
   "execution_count": 23,
   "metadata": {
    "id": "-_Qr1yAtDcWl"
   },
   "outputs": [],
   "source": [
    "def label_to_classname(label):\n",
    "  for classname in classes.keys():\n",
    "    if classes[classname] == label:\n",
    "      return classname\n",
    "  return 'NULL'\n"
   ]
  },
  {
   "cell_type": "code",
   "execution_count": null,
   "metadata": {
    "id": "fByBZmTXDezi"
   },
   "outputs": [],
   "source": [
    "# Put new images at the 'test' directory to classify them\n",
    "new_images_path = os.path.join(root_folder, \"./test\")\n",
    "\n",
    "# get new images\n",
    "images = os.listdir(new_images_path)\n",
    "\n",
    "with torch.no_grad():\n",
    "    for image in images:\n",
    "      file_name = image\n",
    "      image = transform(Image.open(os.path.join(new_images_path, image)).convert('RGB'))\n",
    "      image = image.unsqueeze(0)\n",
    "      image = image.to(device)\n",
    "      labels = model(image)\n",
    "      _, predicted = torch.max(labels.data, 1)\n",
    "      print(f'{file_name} file is {label_to_classname(predicted[0])}')"
   ]
  }
 ],
 "metadata": {
  "accelerator": "GPU",
  "colab": {
   "collapsed_sections": [],
   "name": "AI Covid Mask Type Detection.ipynb",
   "provenance": []
  },
  "kernelspec": {
   "display_name": "Python 3",
   "language": "python",
   "name": "python3"
  },
  "language_info": {
   "codemirror_mode": {
    "name": "ipython",
    "version": 3
   },
   "file_extension": ".py",
   "mimetype": "text/x-python",
   "name": "python",
   "nbconvert_exporter": "python",
   "pygments_lexer": "ipython3",
   "version": "3.8.8"
  }
 },
 "nbformat": 4,
 "nbformat_minor": 1
}